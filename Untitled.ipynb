{
 "cells": [
  {
   "cell_type": "markdown",
   "id": "3e016066",
   "metadata": {},
   "source": [
    "# BITES APP\n",
    "\n",
    "\n",
    "## Getting Started\n",
    "<hr>\n",
    "\n",
    " - Navigate to the location where the cloned project will be pulled into.\n",
    " - Use the commandline to run `git clone <code_url>` whereby the `code_url` is found in github repo.\n",
    " - Navigate to the `BITESAPP` folder.\n",
    " - Initiate the command in the terminal to make a virtual environment.\n",
    "    ````python -m venv venv````\n",
    " - Install the requirements by using the command `pip install -r requirements.txt`.\n",
    " - Create the required db and user in psql and remember to change the `DATABASES` dictionary settings including `NAME`, `PASSWORD`, `HOST` AND `PORT` in `settings.py`.\n",
    " - Make migrations `python manage.py makemigrations`.\n",
    " - Migrate `python manage.py migrate`.\n",
    " - In the terminal within the `BITESAPP` folder, create a superuser using the command `python manage.py createsuperuser`. Fill in the `username`, `email` and `password`.\n",
    " - Run the live-server `python manage.py runserver`.\n",
    " \n"
   ]
  },
  {
   "cell_type": "code",
   "execution_count": null,
   "id": "0f7c598f",
   "metadata": {},
   "outputs": [],
   "source": []
  }
 ],
 "metadata": {
  "kernelspec": {
   "display_name": "Python 3 (ipykernel)",
   "language": "python",
   "name": "python3"
  },
  "language_info": {
   "codemirror_mode": {
    "name": "ipython",
    "version": 3
   },
   "file_extension": ".py",
   "mimetype": "text/x-python",
   "name": "python",
   "nbconvert_exporter": "python",
   "pygments_lexer": "ipython3",
   "version": "3.8.12"
  }
 },
 "nbformat": 4,
 "nbformat_minor": 5
}
